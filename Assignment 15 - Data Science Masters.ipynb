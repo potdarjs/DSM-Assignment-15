{
 "cells": [
  {
   "cell_type": "code",
   "execution_count": 11,
   "metadata": {},
   "outputs": [
    {
     "data": {
      "text/plain": [
       "0    1550\n",
       "1    1700\n",
       "2     900\n",
       "3     850\n",
       "4    1000\n",
       "5     950\n",
       "Name: Rent(in $), dtype: int64"
      ]
     },
     "execution_count": 11,
     "metadata": {},
     "output_type": "execute_result"
    }
   ],
   "source": [
    "# Problem Statement 1:\n",
    "# You survey households in your area to find the average rent they are paying. Find the standard deviation from the following\n",
    "# data: $1550, $1700, $900, $850, $1000, $950.\n",
    "import numpy as np\n",
    "import pandas as pd\n",
    "rent_data = pd.Series(data= [1550, 1700, 900, 850, 1000, 950], name = \"Rent(in $)\")\n",
    "rent_data"
   ]
  },
  {
   "cell_type": "code",
   "execution_count": 12,
   "metadata": {},
   "outputs": [
    {
     "name": "stdout",
     "output_type": "stream",
     "text": [
      "Average rent is: $ 1158.33\n"
     ]
    }
   ],
   "source": [
    "# Calculating Average Rent\n",
    "rent_avg = rent_data.mean()\n",
    "print(\"Average rent is: $\", np.around(rent_avg,2))"
   ]
  },
  {
   "cell_type": "code",
   "execution_count": 13,
   "metadata": {},
   "outputs": [
    {
     "name": "stdout",
     "output_type": "stream",
     "text": [
      "Standard Deviation for the rent is: $ 367.99\n"
     ]
    }
   ],
   "source": [
    "# Calculating Standard Deviation for the Rent data\n",
    "rent_std_dev = rent_data.std()\n",
    "print(\"Standard Deviation for the rent is: $\", np.around(rent_std_dev,2))"
   ]
  },
  {
   "cell_type": "code",
   "execution_count": 15,
   "metadata": {},
   "outputs": [
    {
     "data": {
      "text/plain": [
       "0      3\n",
       "1     21\n",
       "2     98\n",
       "3    203\n",
       "4     17\n",
       "5      9\n",
       "Name: Tree height(in ft), dtype: int64"
      ]
     },
     "execution_count": 15,
     "metadata": {},
     "output_type": "execute_result"
    }
   ],
   "source": [
    "# Problem Statement 2:\n",
    "# Find the variance for the following set of data representing trees in California (heights in feet):\n",
    "# 3, 21, 98, 203, 17, 9\n",
    "\n",
    "tree_ht_data = pd.Series(data=[3, 21, 98, 203, 17, 9],name=\"Tree height(in ft)\")\n",
    "tree_ht_data"
   ]
  },
  {
   "cell_type": "code",
   "execution_count": 16,
   "metadata": {},
   "outputs": [
    {
     "name": "stdout",
     "output_type": "stream",
     "text": [
      "The variance is:   6219.9 ft-square\n"
     ]
    }
   ],
   "source": [
    "# Calculating the variance of the height of the trees (in feet)\n",
    "tree_ht_var = tree_ht_data.var()\n",
    "print(\"The variance is:  \", np.around(tree_ht_var,2),\"ft-square\")"
   ]
  },
  {
   "cell_type": "code",
   "execution_count": 18,
   "metadata": {},
   "outputs": [
    {
     "data": {
      "text/html": [
       "<div>\n",
       "<style scoped>\n",
       "    .dataframe tbody tr th:only-of-type {\n",
       "        vertical-align: middle;\n",
       "    }\n",
       "\n",
       "    .dataframe tbody tr th {\n",
       "        vertical-align: top;\n",
       "    }\n",
       "\n",
       "    .dataframe thead th {\n",
       "        text-align: right;\n",
       "    }\n",
       "</style>\n",
       "<table border=\"1\" class=\"dataframe\">\n",
       "  <thead>\n",
       "    <tr style=\"text-align: right;\">\n",
       "      <th></th>\n",
       "      <th>No. Failed Subjects(X)</th>\n",
       "      <th>P(X)</th>\n",
       "    </tr>\n",
       "  </thead>\n",
       "  <tbody>\n",
       "    <tr>\n",
       "      <th>0</th>\n",
       "      <td>X=0</td>\n",
       "      <td>0.80</td>\n",
       "    </tr>\n",
       "    <tr>\n",
       "      <th>1</th>\n",
       "      <td>X=1</td>\n",
       "      <td>0.10</td>\n",
       "    </tr>\n",
       "    <tr>\n",
       "      <th>2</th>\n",
       "      <td>X=2</td>\n",
       "      <td>0.07</td>\n",
       "    </tr>\n",
       "    <tr>\n",
       "      <th>3</th>\n",
       "      <td>X=3</td>\n",
       "      <td>0.03</td>\n",
       "    </tr>\n",
       "  </tbody>\n",
       "</table>\n",
       "</div>"
      ],
      "text/plain": [
       "  No. Failed Subjects(X)  P(X)\n",
       "0                    X=0  0.80\n",
       "1                    X=1  0.10\n",
       "2                    X=2  0.07\n",
       "3                    X=3  0.03"
      ]
     },
     "execution_count": 18,
     "metadata": {},
     "output_type": "execute_result"
    }
   ],
   "source": [
    "# Problem Statement 3:\n",
    "# In a class on 100 students, 80 students passed in all subjects, 10 failed in one subject, 7 failed in two subjects and \n",
    "# 3 failed in three subjects. Find the probability distribution of the variable for number of subjects a student \n",
    "# from the given class has failed in.\n",
    "\n",
    "import matplotlib.pyplot as plt\n",
    "from matplotlib.pyplot import hist\n",
    "\n",
    "prob_no_fail = 80/100\n",
    "prob_one_fail = 10/100\n",
    "prob_two_fail = 7/100\n",
    "prob_three_fail = 3/100\n",
    "\n",
    "prob_list = [prob_no_fail, prob_one_fail, prob_two_fail, prob_three_fail]\n",
    "\n",
    "fail_pdf = pd.DataFrame(data={'No. Failed Subjects(X)':['X=0', 'X=1', 'X=2', 'X=3'],'P(X)': prob_list})\n",
    "fail_pdf"
   ]
  },
  {
   "cell_type": "code",
   "execution_count": 7,
   "metadata": {},
   "outputs": [
    {
     "data": {
      "text/plain": [
       "True"
      ]
     },
     "execution_count": 7,
     "metadata": {},
     "output_type": "execute_result"
    }
   ],
   "source": [
    "# The sum of all probabilities(Cumulative Probability) should be equal to 1 in a probability distribution\n",
    "fail_pdf['P(X)'].sum() == 1"
   ]
  },
  {
   "cell_type": "code",
   "execution_count": 36,
   "metadata": {},
   "outputs": [
    {
     "data": {
      "text/plain": [
       "0    X=0\n",
       "1    X=1\n",
       "2    X=2\n",
       "3    X=3\n",
       "Name: No. Failed Subjects(X), dtype: object"
      ]
     },
     "execution_count": 36,
     "metadata": {},
     "output_type": "execute_result"
    }
   ],
   "source": [
    "x = fail_pdf['No. Failed Subjects(X)']\n",
    "x"
   ]
  },
  {
   "cell_type": "code",
   "execution_count": 37,
   "metadata": {},
   "outputs": [
    {
     "data": {
      "text/plain": [
       "0    0.80\n",
       "1    0.10\n",
       "2    0.07\n",
       "3    0.03\n",
       "Name: P(X), dtype: float64"
      ]
     },
     "execution_count": 37,
     "metadata": {},
     "output_type": "execute_result"
    }
   ],
   "source": [
    "y = fail_pdf['P(X)']\n",
    "y"
   ]
  },
  {
   "cell_type": "code",
   "execution_count": 44,
   "metadata": {},
   "outputs": [
    {
     "data": {
      "image/png": "[encoded data removed]",
      "text/plain": [
       "<Figure size 432x288 with 1 Axes>"
      ]
     },
     "metadata": {},
     "output_type": "display_data"
    }
   ],
   "source": [
    "fail_pdf['weight'] = fail_pdf['P(X)']*100\n",
    "fail_pdf['weight']\n",
    "\n",
    "hist= [[fail_pdf['No. Failed Subjects(X)'][0]]*np.int(fail_pdf['weight'][0]),\n",
    " [fail_pdf['No. Failed Subjects(X)'][1]]*np.int(fail_pdf['weight'][1]),\n",
    " [fail_pdf['No. Failed Subjects(X)'][2]]*np.int(fail_pdf['weight'][2]),\n",
    " [fail_pdf['No. Failed Subjects(X)'][3]]*np.int(fail_pdf['weight'][3])]\n",
    "\n",
    "# Plotting the histogram of the probability distribution\n",
    "plt.xlabel('No. of Failed Subjects(X)')\n",
    "plt.ylabel('Probability')\n",
    "plt.title('Probability distribution of the variable(X) for number of subjects a student from the given class has failed in \\n')\n",
    "plt.hist(hist, histtype='bar', rwidth=0.8)\n",
    "plt.show()"
   ]
  },
  {
   "cell_type": "code",
   "execution_count": null,
   "metadata": {},
   "outputs": [],
   "source": []
  }
 ],
 "metadata": {
  "kernelspec": {
   "display_name": "Python 3",
   "language": "python",
   "name": "python3"
  },
  "language_info": {
   "codemirror_mode": {
    "name": "ipython",
    "version": 3
   },
   "file_extension": ".py",
   "mimetype": "text/x-python",
   "name": "python",
   "nbconvert_exporter": "python",
   "pygments_lexer": "ipython3",
   "version": "3.6.5"
  }
 },
 "nbformat": 4,
 "nbformat_minor": 2
}
